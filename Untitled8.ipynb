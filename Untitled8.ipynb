{
 "cells": [
  {
   "cell_type": "code",
   "execution_count": null,
   "id": "57fba862",
   "metadata": {},
   "outputs": [],
   "source": [
    "# selecting primus membership\n",
    "gender = input('what is your gender? ')\n",
    "school = input('which school did you attend? ')\n",
    "g_year = int(input('what year did you graduate? '))# year of graduation\n",
    "a_year = int(input('when were you admitted? ')) # year admitted\n",
    "\n",
    "if (school.lower() == \"christ the king college onitsha\" and g_year == 2005) and gender.lower() == 'male':\n",
    "    membership = ('you are eligible to be a primus05 member')\n",
    "elif (school.lower() == \"christ the king college onitsha\" and a_year == 1999) and gender.lower() == 'male':\n",
    "    membership = ('you are eligible to be a primus05 member')\n",
    "elif (school.lower() == \"christ the king college onitsha\" and (a_year == 1999 or g_year == 2005) ) and gender.lower() == 'male':\n",
    "    membership = ('you are eligible to be a primus05 member')\n",
    "elif (school.lower() == \"christ the king college onitsha\" and (a_year == 1999 or g_year == 2005) ) and gender.lower() != 'male':\n",
    "    membership = ('sorry you are in a wrong group')\n",
    "else:\n",
    "    membership= (\"i am sorry you are not eligible to be a member primus05\")\n",
    "    \n",
    "print(membership)"
   ]
  }
 ],
 "metadata": {
  "kernelspec": {
   "display_name": "Python 3 (ipykernel)",
   "language": "python",
   "name": "python3"
  },
  "language_info": {
   "codemirror_mode": {
    "name": "ipython",
    "version": 3
   },
   "file_extension": ".py",
   "mimetype": "text/x-python",
   "name": "python",
   "nbconvert_exporter": "python",
   "pygments_lexer": "ipython3",
   "version": "3.11.5"
  }
 },
 "nbformat": 4,
 "nbformat_minor": 5
}
